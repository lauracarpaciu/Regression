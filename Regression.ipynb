{
 "cells": [
  {
   "cell_type": "code",
   "execution_count": null,
   "metadata": {},
   "outputs": [],
   "source": [
    "# prepare the R environment\n",
    "if (!require(\"pacman\")) install.packages(\"pacman\")\n",
    "pacman::p_load(\n",
    "  dplyr,         # Data munging functions\n",
    "  zoo,              # Feature engineering rolling aggregates\n",
    "  data.table,       # Feature engineering\n",
    "  ggplot2,          # Graphics\n",
    "  scales,           # Time formatted axis\n",
    "  readr,            # Reading input files\n",
    "  stringr,          # String functions\n",
    "  reshape2,         # restructure and aggregate data \n",
    "  randomForest,     # Random forests\n",
    "  corrplot,         # correlation plots\n",
    "  Metrics,          # Eval metrics for ML\n",
    "  vcd               # Visualizing discrete distributions\n",
    ")\n",
    "\n",
    "# set options for plots\n",
    "options(repr.plot.width=6, repr.plot.height=6)"
   ]
  }
 ],
 "metadata": {
  "kernelspec": {
   "display_name": "R",
   "language": "R",
   "name": "ir"
  },
  "language_info": {
   "codemirror_mode": "r",
   "file_extension": ".r",
   "mimetype": "text/x-r-source",
   "name": "R",
   "pygments_lexer": "r",
   "version": "3.4.3"
  }
 },
 "nbformat": 4,
 "nbformat_minor": 2
}
