{
 "cells": [
  {
   "cell_type": "code",
   "execution_count": 1,
   "metadata": {},
   "outputs": [
    {
     "name": "stderr",
     "output_type": "stream",
     "text": [
      "Loading required package: pacman\n",
      "Warning message:\n",
      "\"package 'pacman' was built under R version 3.5.1\"Installing package into 'C:/Program Files/R/R-3.5.1/library'\n",
      "(as 'lib' is unspecified)\n",
      "Warning message in utils::install.packages(package, ...):\n",
      "\"'lib = \"C:/Program Files/R/R-3.5.1/library\"' is not writable\""
     ]
    },
    {
     "ename": "ERROR",
     "evalue": "Error in utils::install.packages(package, ...): unable to install packages\n",
     "output_type": "error",
     "traceback": [
      "Error in utils::install.packages(package, ...): unable to install packages\nTraceback:\n",
      "1. pacman::p_load(dplyr, zoo, data.table, ggplot2, scales, readr, \n .     stringr, reshape2, randomForest, corrplot, Metrics, vcd)",
      "2. sapply(packages, p_load_single, install = install)",
      "3. lapply(X = X, FUN = FUN, ...)",
      "4. FUN(X[[i]], ...)",
      "5. p_install(package, character.only = TRUE, ...)",
      "6. withCallingHandlers(utils::install.packages(package, ...), warning = function(w) {\n .     if (grepl(\"package.*is not available\", w$message)) {\n .         assign(\"try_bioc_p\", TRUE, envir = bioconductor_env)\n .     }\n . })",
      "7. utils::install.packages(package, ...)",
      "8. stop(\"unable to install packages\")"
     ]
    }
   ],
   "source": [
    "# prepare the R environment\n",
    "if (!require(\"pacman\")) install.packages(\"pacman\")\n",
    "pacman::p_load(\n",
    "  dplyr,         # Data munging functions\n",
    "  zoo,              # Feature engineering rolling aggregates\n",
    "  data.table,       # Feature engineering\n",
    "  ggplot2,          # Graphics\n",
    "  scales,           # Time formatted axis\n",
    "  readr,            # Reading input files\n",
    "  stringr,          # String functions\n",
    "  reshape2,         # restructure and aggregate data \n",
    "  randomForest,     # Random forests\n",
    "  corrplot,         # correlation plots\n",
    "  Metrics,          # Eval metrics for ML\n",
    "  vcd               # Visualizing discrete distributions\n",
    ")\n",
    "\n",
    "# set options for plots\n",
    "options(repr.plot.width=6, repr.plot.height=6)"
   ]
  },
  {
   "cell_type": "code",
   "execution_count": 3,
   "metadata": {},
   "outputs": [
    {
     "data": {
      "text/html": [
       "<table>\n",
       "<thead><tr><th scope=col>Date</th><th scope=col>Open</th><th scope=col>High</th><th scope=col>Low</th><th scope=col>Close</th><th scope=col>Volume</th><th scope=col>Adj.Close</th></tr></thead>\n",
       "<tbody>\n",
       "\t<tr><td>2016-02-01</td><td>750.46    </td><td>757.860   </td><td>743.27    </td><td>752.00    </td><td>10278400  </td><td>752.00    </td></tr>\n",
       "\t<tr><td>2016-01-04</td><td>743.00    </td><td>752.000   </td><td>673.26    </td><td>742.95    </td><td> 2632600  </td><td>742.95    </td></tr>\n",
       "\t<tr><td>2015-12-01</td><td>747.11    </td><td>779.980   </td><td>724.17    </td><td>758.88    </td><td> 2026100  </td><td>758.88    </td></tr>\n",
       "\t<tr><td>2015-11-02</td><td>711.06    </td><td>762.708   </td><td>705.85    </td><td>742.60    </td><td> 1801600  </td><td>742.60    </td></tr>\n",
       "\t<tr><td>2015-10-01</td><td>608.37    </td><td>730.000   </td><td>599.85    </td><td>710.81    </td><td> 2333600  </td><td>710.81    </td></tr>\n",
       "\t<tr><td>2015-09-01</td><td>602.36    </td><td>650.900   </td><td>589.38    </td><td>608.42    </td><td> 2398400  </td><td>608.42    </td></tr>\n",
       "</tbody>\n",
       "</table>\n"
      ],
      "text/latex": [
       "\\begin{tabular}{r|lllllll}\n",
       " Date & Open & High & Low & Close & Volume & Adj.Close\\\\\n",
       "\\hline\n",
       "\t 2016-02-01 & 750.46     & 757.860    & 743.27     & 752.00     & 10278400   & 752.00    \\\\\n",
       "\t 2016-01-04 & 743.00     & 752.000    & 673.26     & 742.95     &  2632600   & 742.95    \\\\\n",
       "\t 2015-12-01 & 747.11     & 779.980    & 724.17     & 758.88     &  2026100   & 758.88    \\\\\n",
       "\t 2015-11-02 & 711.06     & 762.708    & 705.85     & 742.60     &  1801600   & 742.60    \\\\\n",
       "\t 2015-10-01 & 608.37     & 730.000    & 599.85     & 710.81     &  2333600   & 710.81    \\\\\n",
       "\t 2015-09-01 & 602.36     & 650.900    & 589.38     & 608.42     &  2398400   & 608.42    \\\\\n",
       "\\end{tabular}\n"
      ],
      "text/markdown": [
       "\n",
       "Date | Open | High | Low | Close | Volume | Adj.Close | \n",
       "|---|---|---|---|---|---|\n",
       "| 2016-02-01 | 750.46     | 757.860    | 743.27     | 752.00     | 10278400   | 752.00     | \n",
       "| 2016-01-04 | 743.00     | 752.000    | 673.26     | 742.95     |  2632600   | 742.95     | \n",
       "| 2015-12-01 | 747.11     | 779.980    | 724.17     | 758.88     |  2026100   | 758.88     | \n",
       "| 2015-11-02 | 711.06     | 762.708    | 705.85     | 742.60     |  1801600   | 742.60     | \n",
       "| 2015-10-01 | 608.37     | 730.000    | 599.85     | 710.81     |  2333600   | 710.81     | \n",
       "| 2015-09-01 | 602.36     | 650.900    | 589.38     | 608.42     |  2398400   | 608.42     | \n",
       "\n",
       "\n"
      ],
      "text/plain": [
       "  Date       Open   High    Low    Close  Volume   Adj.Close\n",
       "1 2016-02-01 750.46 757.860 743.27 752.00 10278400 752.00   \n",
       "2 2016-01-04 743.00 752.000 673.26 742.95  2632600 742.95   \n",
       "3 2015-12-01 747.11 779.980 724.17 758.88  2026100 758.88   \n",
       "4 2015-11-02 711.06 762.708 705.85 742.60  1801600 742.60   \n",
       "5 2015-10-01 608.37 730.000 599.85 710.81  2333600 710.81   \n",
       "6 2015-09-01 602.36 650.900 589.38 608.42  2398400 608.42   "
      ]
     },
     "metadata": {},
     "output_type": "display_data"
    },
    {
     "data": {
      "text/html": [
       "<table>\n",
       "<thead><tr><th scope=col>Date</th><th scope=col>Open</th><th scope=col>High</th><th scope=col>Low</th><th scope=col>Close</th><th scope=col>Volume</th><th scope=col>Adj.Close</th></tr></thead>\n",
       "<tbody>\n",
       "\t<tr><td>2016-02-01</td><td>4587.59   </td><td>4636.93   </td><td>4565.37   </td><td>4620.37   </td><td>3966680000</td><td>4620.37   </td></tr>\n",
       "\t<tr><td>2016-01-04</td><td>4897.65   </td><td>4926.73   </td><td>4313.39   </td><td>4613.95   </td><td>2499720000</td><td>4613.95   </td></tr>\n",
       "\t<tr><td>2015-12-01</td><td>5129.64   </td><td>5176.77   </td><td>4871.59   </td><td>5007.41   </td><td>1911610000</td><td>5007.41   </td></tr>\n",
       "\t<tr><td>2015-11-02</td><td>5065.64   </td><td>5163.47   </td><td>4908.66   </td><td>5108.67   </td><td>1951903500</td><td>5108.67   </td></tr>\n",
       "\t<tr><td>2015-10-01</td><td>4624.46   </td><td>5095.69   </td><td>4552.34   </td><td>5053.75   </td><td>2016574000</td><td>5053.75   </td></tr>\n",
       "\t<tr><td>2015-09-01</td><td>4673.61   </td><td>4960.87   </td><td>4487.06   </td><td>4620.16   </td><td>2090584200</td><td>4620.16   </td></tr>\n",
       "</tbody>\n",
       "</table>\n"
      ],
      "text/latex": [
       "\\begin{tabular}{r|lllllll}\n",
       " Date & Open & High & Low & Close & Volume & Adj.Close\\\\\n",
       "\\hline\n",
       "\t 2016-02-01 & 4587.59    & 4636.93    & 4565.37    & 4620.37    & 3966680000 & 4620.37   \\\\\n",
       "\t 2016-01-04 & 4897.65    & 4926.73    & 4313.39    & 4613.95    & 2499720000 & 4613.95   \\\\\n",
       "\t 2015-12-01 & 5129.64    & 5176.77    & 4871.59    & 5007.41    & 1911610000 & 5007.41   \\\\\n",
       "\t 2015-11-02 & 5065.64    & 5163.47    & 4908.66    & 5108.67    & 1951903500 & 5108.67   \\\\\n",
       "\t 2015-10-01 & 4624.46    & 5095.69    & 4552.34    & 5053.75    & 2016574000 & 5053.75   \\\\\n",
       "\t 2015-09-01 & 4673.61    & 4960.87    & 4487.06    & 4620.16    & 2090584200 & 4620.16   \\\\\n",
       "\\end{tabular}\n"
      ],
      "text/markdown": [
       "\n",
       "Date | Open | High | Low | Close | Volume | Adj.Close | \n",
       "|---|---|---|---|---|---|\n",
       "| 2016-02-01 | 4587.59    | 4636.93    | 4565.37    | 4620.37    | 3966680000 | 4620.37    | \n",
       "| 2016-01-04 | 4897.65    | 4926.73    | 4313.39    | 4613.95    | 2499720000 | 4613.95    | \n",
       "| 2015-12-01 | 5129.64    | 5176.77    | 4871.59    | 5007.41    | 1911610000 | 5007.41    | \n",
       "| 2015-11-02 | 5065.64    | 5163.47    | 4908.66    | 5108.67    | 1951903500 | 5108.67    | \n",
       "| 2015-10-01 | 4624.46    | 5095.69    | 4552.34    | 5053.75    | 2016574000 | 5053.75    | \n",
       "| 2015-09-01 | 4673.61    | 4960.87    | 4487.06    | 4620.16    | 2090584200 | 4620.16    | \n",
       "\n",
       "\n"
      ],
      "text/plain": [
       "  Date       Open    High    Low     Close   Volume     Adj.Close\n",
       "1 2016-02-01 4587.59 4636.93 4565.37 4620.37 3966680000 4620.37  \n",
       "2 2016-01-04 4897.65 4926.73 4313.39 4613.95 2499720000 4613.95  \n",
       "3 2015-12-01 5129.64 5176.77 4871.59 5007.41 1911610000 5007.41  \n",
       "4 2015-11-02 5065.64 5163.47 4908.66 5108.67 1951903500 5108.67  \n",
       "5 2015-10-01 4624.46 5095.69 4552.34 5053.75 2016574000 5053.75  \n",
       "6 2015-09-01 4673.61 4960.87 4487.06 4620.16 2090584200 4620.16  "
      ]
     },
     "metadata": {},
     "output_type": "display_data"
    },
    {
     "data": {
      "text/html": [
       "<table>\n",
       "<thead><tr><th scope=col>Date</th><th scope=col>Open</th><th scope=col>High</th><th scope=col>Low</th><th scope=col>Close</th><th scope=col>Volume</th><th scope=col>Adj.Close</th></tr></thead>\n",
       "<tbody>\n",
       "\t<tr><td>2016-02-01</td><td>1.343     </td><td>1.383     </td><td>1.334     </td><td>1.383     </td><td>0         </td><td>1.383     </td></tr>\n",
       "\t<tr><td>2016-01-04</td><td>1.720     </td><td>1.740     </td><td>1.328     </td><td>1.335     </td><td>0         </td><td>1.335     </td></tr>\n",
       "\t<tr><td>2015-12-01</td><td>1.666     </td><td>1.829     </td><td>1.568     </td><td>1.758     </td><td>0         </td><td>1.758     </td></tr>\n",
       "\t<tr><td>2015-11-02</td><td>1.553     </td><td>1.779     </td><td>1.543     </td><td>1.654     </td><td>0         </td><td>1.654     </td></tr>\n",
       "\t<tr><td>2015-10-01</td><td>1.365     </td><td>1.558     </td><td>1.215     </td><td>1.528     </td><td>0         </td><td>1.528     </td></tr>\n",
       "\t<tr><td>2015-09-01</td><td>1.504     </td><td>1.614     </td><td>1.372     </td><td>1.375     </td><td>0         </td><td>1.375     </td></tr>\n",
       "</tbody>\n",
       "</table>\n"
      ],
      "text/latex": [
       "\\begin{tabular}{r|lllllll}\n",
       " Date & Open & High & Low & Close & Volume & Adj.Close\\\\\n",
       "\\hline\n",
       "\t 2016-02-01 & 1.343      & 1.383      & 1.334      & 1.383      & 0          & 1.383     \\\\\n",
       "\t 2016-01-04 & 1.720      & 1.740      & 1.328      & 1.335      & 0          & 1.335     \\\\\n",
       "\t 2015-12-01 & 1.666      & 1.829      & 1.568      & 1.758      & 0          & 1.758     \\\\\n",
       "\t 2015-11-02 & 1.553      & 1.779      & 1.543      & 1.654      & 0          & 1.654     \\\\\n",
       "\t 2015-10-01 & 1.365      & 1.558      & 1.215      & 1.528      & 0          & 1.528     \\\\\n",
       "\t 2015-09-01 & 1.504      & 1.614      & 1.372      & 1.375      & 0          & 1.375     \\\\\n",
       "\\end{tabular}\n"
      ],
      "text/markdown": [
       "\n",
       "Date | Open | High | Low | Close | Volume | Adj.Close | \n",
       "|---|---|---|---|---|---|\n",
       "| 2016-02-01 | 1.343      | 1.383      | 1.334      | 1.383      | 0          | 1.383      | \n",
       "| 2016-01-04 | 1.720      | 1.740      | 1.328      | 1.335      | 0          | 1.335      | \n",
       "| 2015-12-01 | 1.666      | 1.829      | 1.568      | 1.758      | 0          | 1.758      | \n",
       "| 2015-11-02 | 1.553      | 1.779      | 1.543      | 1.654      | 0          | 1.654      | \n",
       "| 2015-10-01 | 1.365      | 1.558      | 1.215      | 1.528      | 0          | 1.528      | \n",
       "| 2015-09-01 | 1.504      | 1.614      | 1.372      | 1.375      | 0          | 1.375      | \n",
       "\n",
       "\n"
      ],
      "text/plain": [
       "  Date       Open  High  Low   Close Volume Adj.Close\n",
       "1 2016-02-01 1.343 1.383 1.334 1.383 0      1.383    \n",
       "2 2016-01-04 1.720 1.740 1.328 1.335 0      1.335    \n",
       "3 2015-12-01 1.666 1.829 1.568 1.758 0      1.758    \n",
       "4 2015-11-02 1.553 1.779 1.543 1.654 0      1.654    \n",
       "5 2015-10-01 1.365 1.558 1.215 1.528 0      1.528    \n",
       "6 2015-09-01 1.504 1.614 1.372 1.375 0      1.375    "
      ]
     },
     "metadata": {},
     "output_type": "display_data"
    }
   ],
   "source": [
    "# Load the googs data\n",
    "googFile <-\"C:\\\\Users\\\\Mirela\\\\RStudioProjects\\\\Regression_file\\\\Regression_Data\\\\goog.csv\"\n",
    "nasdaqFile<-\"C:\\\\Users\\\\Mirela\\\\RStudioProjects\\\\Regression_file\\\\Regression_Data\\\\Nasdaq.csv\"\n",
    "tbondsFile <-\"C:\\\\Users\\\\Mirela\\\\RStudioProjects\\\\Regression_file\\\\Regression_Data\\\\tbond5yr.csv\"\n",
    "if(!file.exists(googFile)){tryCatch(googFile)}\n",
    "if(file.exists(googFile)) goog_original <- read.csv(googFile)\n",
    "if(!file.exists(nasdaqFile)){tryCatch(nasdaqFile)}\n",
    "if(file.exists(nasdaqFile)) nasdaqFile_original <- read.csv(nasdaqFile)\n",
    "if(!file.exists(tbondsFile)){tryCatch(tbondsFile)}\n",
    "if(file.exists(tbondsFile)) tbondsFile_original <- read.csv(tbondsFile)\n",
    "head(goog_original)\n",
    "head(nasdaqFile_original)\n",
    "head(tbondsFile_original)"
   ]
  },
  {
   "cell_type": "code",
   "execution_count": null,
   "metadata": {},
   "outputs": [],
   "source": []
  }
 ],
 "metadata": {
  "kernelspec": {
   "display_name": "R",
   "language": "R",
   "name": "ir"
  },
  "language_info": {
   "codemirror_mode": "r",
   "file_extension": ".r",
   "mimetype": "text/x-r-source",
   "name": "R",
   "pygments_lexer": "r",
   "version": "3.4.3"
  }
 },
 "nbformat": 4,
 "nbformat_minor": 2
}
