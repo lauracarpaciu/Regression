{
 "cells": [
  {
   "cell_type": "code",
   "execution_count": 1,
   "metadata": {},
   "outputs": [
    {
     "name": "stderr",
     "output_type": "stream",
     "text": [
      "Loading required package: pacman\n",
      "Warning message:\n",
      "\"package 'pacman' was built under R version 3.5.1\"Installing package into 'C:/Program Files/R/R-3.5.1/library'\n",
      "(as 'lib' is unspecified)\n"
     ]
    },
    {
     "name": "stdout",
     "output_type": "stream",
     "text": [
      "package 'corrplot' successfully unpacked and MD5 sums checked\n",
      "\n",
      "The downloaded binary packages are in\n",
      "\tC:\\Users\\Mirela\\AppData\\Local\\Temp\\Rtmpmy7TZq\\downloaded_packages\n"
     ]
    },
    {
     "name": "stderr",
     "output_type": "stream",
     "text": [
      "\n",
      "corrplot installed\n",
      "Warning message:\n",
      "\"package 'corrplot' was built under R version 3.4.4\"Installing package into 'C:/Program Files/R/R-3.5.1/library'\n",
      "(as 'lib' is unspecified)\n"
     ]
    },
    {
     "name": "stdout",
     "output_type": "stream",
     "text": [
      "package 'Metrics' successfully unpacked and MD5 sums checked\n",
      "\n",
      "The downloaded binary packages are in\n",
      "\tC:\\Users\\Mirela\\AppData\\Local\\Temp\\Rtmpmy7TZq\\downloaded_packages\n"
     ]
    },
    {
     "name": "stderr",
     "output_type": "stream",
     "text": [
      "\n",
      "Metrics installed\n",
      "Warning message:\n",
      "\"package 'Metrics' was built under R version 3.4.4\"Installing package into 'C:/Program Files/R/R-3.5.1/library'\n",
      "(as 'lib' is unspecified)\n",
      "also installing the dependency 'lmtest'\n",
      "\n"
     ]
    },
    {
     "name": "stdout",
     "output_type": "stream",
     "text": [
      "package 'lmtest' successfully unpacked and MD5 sums checked\n",
      "package 'vcd' successfully unpacked and MD5 sums checked\n",
      "\n",
      "The downloaded binary packages are in\n",
      "\tC:\\Users\\Mirela\\AppData\\Local\\Temp\\Rtmpmy7TZq\\downloaded_packages\n"
     ]
    },
    {
     "name": "stderr",
     "output_type": "stream",
     "text": [
      "\n",
      "vcd installed\n",
      "Warning message:\n",
      "\"package 'vcd' was built under R version 3.4.4\""
     ]
    }
   ],
   "source": [
    "# prepare the R environment\n",
    "if (!require(\"pacman\")) install.packages(\"pacman\")\n",
    "pacman::p_load(\n",
    "  dplyr,         # Data munging functions\n",
    "  zoo,              # Feature engineering rolling aggregates\n",
    "  data.table,       # Feature engineering\n",
    "  ggplot2,          # Graphics\n",
    "  scales,           # Time formatted axis\n",
    "  readr,            # Reading input files\n",
    "  stringr,          # String functions\n",
    "  reshape2,         # restructure and aggregate data \n",
    "  randomForest,     # Random forests\n",
    "  corrplot,         # correlation plots\n",
    "  Metrics,          # Eval metrics for ML\n",
    "  vcd               # Visualizing discrete distributions\n",
    ")\n",
    "\n",
    "# set options for plots\n",
    "options(repr.plot.width=6, repr.plot.height=6)"
   ]
  },
  {
   "cell_type": "code",
   "execution_count": 2,
   "metadata": {},
   "outputs": [
    {
     "data": {
      "text/html": [
       "<table>\n",
       "<thead><tr><th scope=col>Date</th><th scope=col>Open</th><th scope=col>High</th><th scope=col>Low</th><th scope=col>Close</th><th scope=col>Adj.Close</th><th scope=col>Volume</th></tr></thead>\n",
       "<tbody>\n",
       "\t<tr><td>01/10/2010</td><td>263.2876  </td><td>310.3515  </td><td>257.7486  </td><td>304.8671  </td><td>304.8671  </td><td>159726000 </td></tr>\n",
       "\t<tr><td>01/11/2010</td><td>305.8756  </td><td>313.3867  </td><td>274.8672  </td><td>276.0595  </td><td>276.0595  </td><td>117642000 </td></tr>\n",
       "\t<tr><td>01/12/2010</td><td>279.6809  </td><td>301.5388  </td><td>279.3829  </td><td>295.0659  </td><td>295.0659  </td><td> 85118500 </td></tr>\n",
       "\t<tr><td>01/01/2011</td><td>296.3128  </td><td>319.4026  </td><td>295.8508  </td><td>298.2402  </td><td>298.2402  </td><td>120747200 </td></tr>\n",
       "\t<tr><td>01/02/2011</td><td>300.2919  </td><td>313.5507  </td><td>298.7320  </td><td>304.7181  </td><td>304.7181  </td><td> 84280400 </td></tr>\n",
       "\t<tr><td>01/03/2011</td><td>306.8940  </td><td>307.6093  </td><td>273.8588  </td><td>291.4842  </td><td>291.4842  </td><td>121057900 </td></tr>\n",
       "</tbody>\n",
       "</table>\n"
      ],
      "text/latex": [
       "\\begin{tabular}{r|lllllll}\n",
       " Date & Open & High & Low & Close & Adj.Close & Volume\\\\\n",
       "\\hline\n",
       "\t 01/10/2010 & 263.2876   & 310.3515   & 257.7486   & 304.8671   & 304.8671   & 159726000 \\\\\n",
       "\t 01/11/2010 & 305.8756   & 313.3867   & 274.8672   & 276.0595   & 276.0595   & 117642000 \\\\\n",
       "\t 01/12/2010 & 279.6809   & 301.5388   & 279.3829   & 295.0659   & 295.0659   &  85118500 \\\\\n",
       "\t 01/01/2011 & 296.3128   & 319.4026   & 295.8508   & 298.2402   & 298.2402   & 120747200 \\\\\n",
       "\t 01/02/2011 & 300.2919   & 313.5507   & 298.7320   & 304.7181   & 304.7181   &  84280400 \\\\\n",
       "\t 01/03/2011 & 306.8940   & 307.6093   & 273.8588   & 291.4842   & 291.4842   & 121057900 \\\\\n",
       "\\end{tabular}\n"
      ],
      "text/markdown": [
       "\n",
       "Date | Open | High | Low | Close | Adj.Close | Volume | \n",
       "|---|---|---|---|---|---|\n",
       "| 01/10/2010 | 263.2876   | 310.3515   | 257.7486   | 304.8671   | 304.8671   | 159726000  | \n",
       "| 01/11/2010 | 305.8756   | 313.3867   | 274.8672   | 276.0595   | 276.0595   | 117642000  | \n",
       "| 01/12/2010 | 279.6809   | 301.5388   | 279.3829   | 295.0659   | 295.0659   |  85118500  | \n",
       "| 01/01/2011 | 296.3128   | 319.4026   | 295.8508   | 298.2402   | 298.2402   | 120747200  | \n",
       "| 01/02/2011 | 300.2919   | 313.5507   | 298.7320   | 304.7181   | 304.7181   |  84280400  | \n",
       "| 01/03/2011 | 306.8940   | 307.6093   | 273.8588   | 291.4842   | 291.4842   | 121057900  | \n",
       "\n",
       "\n"
      ],
      "text/plain": [
       "  Date       Open     High     Low      Close    Adj.Close Volume   \n",
       "1 01/10/2010 263.2876 310.3515 257.7486 304.8671 304.8671  159726000\n",
       "2 01/11/2010 305.8756 313.3867 274.8672 276.0595 276.0595  117642000\n",
       "3 01/12/2010 279.6809 301.5388 279.3829 295.0659 295.0659   85118500\n",
       "4 01/01/2011 296.3128 319.4026 295.8508 298.2402 298.2402  120747200\n",
       "5 01/02/2011 300.2919 313.5507 298.7320 304.7181 304.7181   84280400\n",
       "6 01/03/2011 306.8940 307.6093 273.8588 291.4842 291.4842  121057900"
      ]
     },
     "metadata": {},
     "output_type": "display_data"
    }
   ],
   "source": [
    "# Load the data\n",
    "googFile <-\"C:\\\\Users\\\\Mirela\\\\RStudioProjects\\\\Regression_file\\\\Regression_Data\\\\goog.csv\"\n",
    "nasdaqFile<-\"C:\\\\Users\\\\Mirela\\\\RStudioProjects\\\\Regression_file\\\\Regression_Data\\\\Nasdaq.csv\"\n",
    "tbondsFile <-\"C:\\\\Users\\\\Mirela\\\\RStudioProjects\\\\Regression_file\\\\Regression_Data\\\\tbond5yr.csv\"\n",
    "if(!file.exists(googFile)){tryCatch(googFile)}\n",
    "\n",
    "if(file.exists(googFile)) goog_original <- read.csv(googFile)\n",
    "\n",
    "head(goog_original)"
   ]
  },
  {
   "cell_type": "code",
   "execution_count": 4,
   "metadata": {},
   "outputs": [
    {
     "data": {
      "text/html": [
       "<table>\n",
       "<thead><tr><th scope=col>Date</th><th scope=col>Open</th><th scope=col>High</th><th scope=col>Low</th><th scope=col>Close</th><th scope=col>Adj.Close</th><th scope=col>Volume</th><th scope=col>goog_id</th></tr></thead>\n",
       "<tbody>\n",
       "\t<tr><td>2010-10-01</td><td>263.2876  </td><td>310.3515  </td><td>257.7486  </td><td>304.8671  </td><td>304.8671  </td><td>159726000 </td><td>1         </td></tr>\n",
       "\t<tr><td>2010-11-01</td><td>305.8756  </td><td>313.3867  </td><td>274.8672  </td><td>276.0595  </td><td>276.0595  </td><td>117642000 </td><td>2         </td></tr>\n",
       "\t<tr><td>2010-12-01</td><td>279.6809  </td><td>301.5388  </td><td>279.3829  </td><td>295.0659  </td><td>295.0659  </td><td> 85118500 </td><td>3         </td></tr>\n",
       "\t<tr><td>2011-01-01</td><td>296.3128  </td><td>319.4026  </td><td>295.8508  </td><td>298.2402  </td><td>298.2402  </td><td>120747200 </td><td>4         </td></tr>\n",
       "\t<tr><td>2011-02-01</td><td>300.2919  </td><td>313.5507  </td><td>298.7320  </td><td>304.7181  </td><td>304.7181  </td><td> 84280400 </td><td>5         </td></tr>\n",
       "\t<tr><td>2011-03-01</td><td>306.8940  </td><td>307.6093  </td><td>273.8588  </td><td>291.4842  </td><td>291.4842  </td><td>121057900 </td><td>6         </td></tr>\n",
       "</tbody>\n",
       "</table>\n"
      ],
      "text/latex": [
       "\\begin{tabular}{r|llllllll}\n",
       " Date & Open & High & Low & Close & Adj.Close & Volume & goog\\_id\\\\\n",
       "\\hline\n",
       "\t 2010-10-01 & 263.2876   & 310.3515   & 257.7486   & 304.8671   & 304.8671   & 159726000  & 1         \\\\\n",
       "\t 2010-11-01 & 305.8756   & 313.3867   & 274.8672   & 276.0595   & 276.0595   & 117642000  & 2         \\\\\n",
       "\t 2010-12-01 & 279.6809   & 301.5388   & 279.3829   & 295.0659   & 295.0659   &  85118500  & 3         \\\\\n",
       "\t 2011-01-01 & 296.3128   & 319.4026   & 295.8508   & 298.2402   & 298.2402   & 120747200  & 4         \\\\\n",
       "\t 2011-02-01 & 300.2919   & 313.5507   & 298.7320   & 304.7181   & 304.7181   &  84280400  & 5         \\\\\n",
       "\t 2011-03-01 & 306.8940   & 307.6093   & 273.8588   & 291.4842   & 291.4842   & 121057900  & 6         \\\\\n",
       "\\end{tabular}\n"
      ],
      "text/markdown": [
       "\n",
       "Date | Open | High | Low | Close | Adj.Close | Volume | goog_id | \n",
       "|---|---|---|---|---|---|\n",
       "| 2010-10-01 | 263.2876   | 310.3515   | 257.7486   | 304.8671   | 304.8671   | 159726000  | 1          | \n",
       "| 2010-11-01 | 305.8756   | 313.3867   | 274.8672   | 276.0595   | 276.0595   | 117642000  | 2          | \n",
       "| 2010-12-01 | 279.6809   | 301.5388   | 279.3829   | 295.0659   | 295.0659   |  85118500  | 3          | \n",
       "| 2011-01-01 | 296.3128   | 319.4026   | 295.8508   | 298.2402   | 298.2402   | 120747200  | 4          | \n",
       "| 2011-02-01 | 300.2919   | 313.5507   | 298.7320   | 304.7181   | 304.7181   |  84280400  | 5          | \n",
       "| 2011-03-01 | 306.8940   | 307.6093   | 273.8588   | 291.4842   | 291.4842   | 121057900  | 6          | \n",
       "\n",
       "\n"
      ],
      "text/plain": [
       "  Date       Open     High     Low      Close    Adj.Close Volume    goog_id\n",
       "1 2010-10-01 263.2876 310.3515 257.7486 304.8671 304.8671  159726000 1      \n",
       "2 2010-11-01 305.8756 313.3867 274.8672 276.0595 276.0595  117642000 2      \n",
       "3 2010-12-01 279.6809 301.5388 279.3829 295.0659 295.0659   85118500 3      \n",
       "4 2011-01-01 296.3128 319.4026 295.8508 298.2402 298.2402  120747200 4      \n",
       "5 2011-02-01 300.2919 313.5507 298.7320 304.7181 304.7181   84280400 5      \n",
       "6 2011-03-01 306.8940 307.6093 273.8588 291.4842 291.4842  121057900 6      "
      ]
     },
     "metadata": {},
     "output_type": "display_data"
    },
    {
     "data": {
      "text/plain": [
       "      Date                          Open             High       \n",
       " Min.   :2010-10-01 00:00:00   Min.   : 251.7   Min.   : 264.9  \n",
       " 1st Qu.:2012-09-23 12:00:00   1st Qu.: 339.4   1st Qu.: 358.5  \n",
       " Median :2014-09-16 00:00:00   Median : 553.3   Median : 576.3  \n",
       " Mean   :2014-09-15 21:30:00   Mean   : 591.8   Mean   : 626.5  \n",
       " 3rd Qu.:2016-09-08 12:00:00   3rd Qu.: 763.1   3rd Qu.: 791.3  \n",
       " Max.   :2018-09-01 00:00:00   Max.   :1228.0   Max.   :1273.9  \n",
       "      Low             Close          Adj.Close          Volume         \n",
       " Min.   : 235.0   Min.   : 251.6   Min.   : 251.6   Min.   :  8297500  \n",
       " 1st Qu.: 328.5   1st Qu.: 345.3   1st Qu.: 345.3   1st Qu.: 33778400  \n",
       " Median : 521.1   Median : 555.7   Median : 555.7   Median : 49818700  \n",
       " Mean   : 568.2   Mean   : 601.3   Mean   : 601.3   Mean   : 68477572  \n",
       " 3rd Qu.: 741.3   3rd Qu.: 769.5   3rd Qu.: 769.5   3rd Qu.: 98212025  \n",
       " Max.   :1188.2   Max.   :1218.2   Max.   :1218.2   Max.   :214937600  \n",
       "    goog_id     \n",
       " Min.   : 1.00  \n",
       " 1st Qu.:24.75  \n",
       " Median :48.50  \n",
       " Mean   :48.50  \n",
       " 3rd Qu.:72.25  \n",
       " Max.   :96.00  "
      ]
     },
     "metadata": {},
     "output_type": "display_data"
    }
   ],
   "source": [
    "\n",
    "# eliminate any duplicates that may exist in the dataset\n",
    "\n",
    "googs <- goog_original%>%\n",
    "  distinct(.keep_all = TRUE,Date,Volume,Adj.Close)\n",
    "\n",
    "# the date field is formatted as a string - transform that into R date\n",
    "googs$Date<-as.POSIXct(strptime(googs$Date,\"%d/%m/%Y\",tz=\"UTC\"))\n",
    "\n",
    "# generate an id column for future use (joins etc)\n",
    "googs$goog_id = seq.int(nrow(googs))\n",
    "\n",
    "head(googs)\n",
    "summary(googs)"
   ]
  },
  {
   "cell_type": "code",
   "execution_count": 5,
   "metadata": {},
   "outputs": [
    {
     "data": {},
     "metadata": {},
     "output_type": "display_data"
    },
    {
     "data": {
      "image/png": "[encoded data removed]",
      "text/plain": [
       "plot without title"
      ]
     },
     "metadata": {},
     "output_type": "display_data"
    }
   ],
   "source": [
    "# how many volumes have been realized over the years?\n",
    "googs %>% \n",
    "  ggplot(mapping = aes(year(Date))) +\n",
    "  geom_bar(aes(fill= Volume), width=1, color=\"black\") +\n",
    "  theme(legend.position = \"bottom\", legend.direction = \"vertical\") + ggtitle(\"Volumes by Year\")"
   ]
  },
  {
   "cell_type": "code",
   "execution_count": 6,
   "metadata": {},
   "outputs": [
    {
     "data": {},
     "metadata": {},
     "output_type": "display_data"
    },
    {
     "data": {
      "image/png": "[encoded data removed]",
      "text/plain": [
       "plot without title"
      ]
     },
     "metadata": {},
     "output_type": "display_data"
    }
   ],
   "source": [
    "# what values is our dataset missing?\n",
    "\n",
    "ggplot_missing <- function(x){\n",
    "  \n",
    "  x %>%\n",
    "    is.na %>%\n",
    "    melt %>%\n",
    "    ggplot(mapping = aes(x = Var2,\n",
    "                         y = Var1)) +\n",
    "    geom_raster(aes(fill = value)) +\n",
    "    scale_fill_grey(name = \"\",\n",
    "                    labels = c(\"Present\",\"Missing\")) +\n",
    "    theme(axis.text.x  = element_text(angle=45, vjust=0.5)) +\n",
    "    labs(x = \"Variables in Dataset\",\n",
    "         y = \"Rows / observations\")\n",
    "}\n",
    "\n",
    "ggplot_missing(googs)"
   ]
  },
  {
   "cell_type": "code",
   "execution_count": 8,
   "metadata": {},
   "outputs": [],
   "source": [
    "# Preprocessing the data\n",
    "\n",
    "googTable <-read.table(googFile,header = TRUE, sep =\",\" )[,c(\"Date\",\"Adj.Close\")]\n",
    "nasdaqTable <- read.table(nasdaqFile,header = TRUE, sep = \",\")[,c(\"Date\",\"Adj.Close\")]\n",
    "tbondsTable <- read.table(tbondsFile, header = TRUE, sep = \",\")[,c(\"Date\",\"Adj.Close\")]\n",
    "names(tbondsTable)[2] <- \"tbonds.outcomes\"\n",
    "tbondsTable[,c(\"Date\")]<- as.Date(tbondsTable[,c(\"Date\")])\n",
    "googTable <- merge(googTable,nasdaqTable, by=\"Date\")\n",
    "googTable[,c(\"Date\")]<- as.Date(googTable[,c(\"Date\")])\n",
    "googTable <- googTable[order(googTable$Date,decreasing = TRUE),]\n",
    "names(googTable)[2:3] <- c(\"goog.prices\",\"nasdaq.prices\")\n",
    "googTable[-nrow(googTable),-1] <- googTable[-nrow(googTable),-1]/googTable[-1,-1]-1\n",
    "googTable<-googTable[-nrow(googTable),]\n",
    "names(googTable)[2:3] <- c(\"goog.outcomes\",\"nasdaq.outcomes\")\n",
    "googTable<-merge(googTable,tbondsTable,by=\"Date\")\n",
    "googTable$tbonds.outcomes<-googTable$tbonds.outcomes/100\n",
    "googTable[,c(\"goog.outcomes\",\"nasdaq.outcomes\")] <- googTable[,c(\"goog.outcomes\",\"nasdaq.outcomes\")]-googTable[,\"tbonds.outcomes\"]\n",
    "\n",
    "#Build a linear model that accounts for missing values\n",
    "\n",
    "googM<- lm(googTable$goog.outcomes~googTable$nasdaq.outcomes, na.action = na.omit)\n",
    "# Deal with missing values in the preprocessing step itself\n",
    "\n",
    "googTable[,\"goog.outcomes\"][is.na(googTable[,\"goog.outcomes\"])]<-mean(googTable[,\"goog.outcomes\"])"
   ]
  },
  {
   "cell_type": "code",
   "execution_count": 9,
   "metadata": {},
   "outputs": [
    {
     "data": {
      "text/plain": [
       "\n",
       "Call:\n",
       "lm(formula = googTable$goog.outcomes ~ googTable$nasdaq.outcomes + \n",
       "    googTable$Month)\n",
       "\n",
       "Residuals:\n",
       "     Min       1Q   Median       3Q      Max \n",
       "-0.49032 -0.11124  0.01695  0.08732  0.80049 \n",
       "\n",
       "Coefficients:\n",
       "                           Estimate Std. Error t value Pr(>|t|)    \n",
       "(Intercept)                0.061766   0.024895   2.481  0.01332 *  \n",
       "googTable$nasdaq.outcomes  1.637774   0.011223 145.927  < 2e-16 ***\n",
       "googTable$Month02         -0.024176   0.034118  -0.709  0.47879    \n",
       "googTable$Month03         -0.033108   0.034101  -0.971  0.33193    \n",
       "googTable$Month04         -0.035605   0.034105  -1.044  0.29682    \n",
       "googTable$Month05          0.024748   0.034105   0.726  0.46828    \n",
       "googTable$Month06          0.041322   0.034107   1.212  0.22608    \n",
       "googTable$Month07          0.102421   0.034116   3.002  0.00277 ** \n",
       "googTable$Month08         -0.022600   0.034125  -0.662  0.50800    \n",
       "googTable$Month09         -0.005845   0.034135  -0.171  0.86409    \n",
       "googTable$Month10          0.004968   0.034125   0.146  0.88429    \n",
       "googTable$Month11         -0.069303   0.034117  -2.031  0.04257 *  \n",
       "googTable$Month12         -0.020432   0.034124  -0.599  0.54952    \n",
       "---\n",
       "Signif. codes:  0 '***' 0.001 '**' 0.01 '*' 0.05 '.' 0.1 ' ' 1\n",
       "\n",
       "Residual standard error: 0.1859 on 747 degrees of freedom\n",
       "Multiple R-squared:  0.9665,\tAdjusted R-squared:  0.966 \n",
       "F-statistic:  1796 on 12 and 747 DF,  p-value: < 2.2e-16\n"
      ]
     },
     "metadata": {},
     "output_type": "display_data"
    }
   ],
   "source": [
    "#Including a categorical variable\n",
    "\n",
    "googTable$Month = format(googTable$Date,\"%m\")\n",
    "dummyVars <- model.matrix(~Month,googTable)\n",
    "goog_MLR <- lm(googTable$goog.outcomes~googTable$nasdaq.outcomes+googTable$Month)\n",
    "summary(goog_MLR)"
   ]
  },
  {
   "cell_type": "code",
   "execution_count": 10,
   "metadata": {},
   "outputs": [
    {
     "name": "stderr",
     "output_type": "stream",
     "text": [
      "Loading required package: MASS\n",
      "Warning message:\n",
      "\"package 'MASS' was built under R version 3.5.1\""
     ]
    },
    {
     "ename": "ERROR",
     "evalue": "Error in rlm(googTable$goog.outcomes ~ googTable$nasdaq.outcomes): could not find function \"rlm\"\n",
     "output_type": "error",
     "traceback": [
      "Error in rlm(googTable$goog.outcomes ~ googTable$nasdaq.outcomes): could not find function \"rlm\"\nTraceback:\n"
     ]
    },
    {
     "data": {
      "image/png": "[encoded data removed]",
      "text/plain": [
       "plot without title"
      ]
     },
     "metadata": {},
     "output_type": "display_data"
    }
   ],
   "source": [
    "#Robust linear regression \n",
    "\n",
    "plot(googTable$goog.outcomes,googTable$nasdaq.outcomes)\n",
    "abline(googM)\n",
    "require(MASS)\n",
    "googRLM<- rlm(googTable$goog.outcomes~googTable$nasdaq.outcomes)\n",
    "abline(googRLM,lty =\"twodash\")"
   ]
  },
  {
   "cell_type": "code",
   "execution_count": 11,
   "metadata": {},
   "outputs": [
    {
     "data": {
      "image/png": "[encoded data removed]",
      "text/plain": [
       "Plot with title \"\""
      ]
     },
     "metadata": {},
     "output_type": "display_data"
    },
    {
     "data": {
      "image/png": "[encoded data removed]",
      "text/plain": [
       "Plot with title \"\""
      ]
     },
     "metadata": {},
     "output_type": "display_data"
    },
    {
     "data": {
      "image/png": "[encoded data removed]",
      "text/plain": [
       "Plot with title \"\""
      ]
     },
     "metadata": {},
     "output_type": "display_data"
    },
    {
     "data": {
      "image/png": "[encoded data removed]",
      "text/plain": [
       "Plot with title \"\""
      ]
     },
     "metadata": {},
     "output_type": "display_data"
    }
   ],
   "source": [
    "#Diagnostic plots \n",
    "plot(googM) "
   ]
  },
  {
   "cell_type": "code",
   "execution_count": null,
   "metadata": {},
   "outputs": [],
   "source": []
  }
 ],
 "metadata": {
  "kernelspec": {
   "display_name": "R",
   "language": "R",
   "name": "ir"
  },
  "language_info": {
   "codemirror_mode": "r",
   "file_extension": ".r",
   "mimetype": "text/x-r-source",
   "name": "R",
   "pygments_lexer": "r",
   "version": "3.4.3"
  }
 },
 "nbformat": 4,
 "nbformat_minor": 2
}
