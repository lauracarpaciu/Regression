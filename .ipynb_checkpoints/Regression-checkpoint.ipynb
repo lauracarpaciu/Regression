{
 "cells": [
  {
   "cell_type": "code",
   "execution_count": 2,
   "metadata": {},
   "outputs": [
    {
     "name": "stderr",
     "output_type": "stream",
     "text": [
      "Loading required package: pacman\n",
      "Warning message:\n",
      "\"package 'pacman' was built under R version 3.5.1\"Installing package into 'C:/Program Files/R/R-3.5.1/library'\n",
      "(as 'lib' is unspecified)\n",
      "Warning message in utils::install.packages(package, ...):\n",
      "\"'lib = \"C:/Program Files/R/R-3.5.1/library\"' is not writable\""
     ]
    },
    {
     "ename": "ERROR",
     "evalue": "Error in utils::install.packages(package, ...): unable to install packages\n",
     "output_type": "error",
     "traceback": [
      "Error in utils::install.packages(package, ...): unable to install packages\nTraceback:\n",
      "1. pacman::p_load(dplyr, zoo, data.table, ggplot2, scales, readr, \n .     stringr, reshape2, randomForest, corrplot, Metrics, vcd)",
      "2. sapply(packages, p_load_single, install = install)",
      "3. lapply(X = X, FUN = FUN, ...)",
      "4. FUN(X[[i]], ...)",
      "5. p_install(package, character.only = TRUE, ...)",
      "6. withCallingHandlers(utils::install.packages(package, ...), warning = function(w) {\n .     if (grepl(\"package.*is not available\", w$message)) {\n .         assign(\"try_bioc_p\", TRUE, envir = bioconductor_env)\n .     }\n . })",
      "7. utils::install.packages(package, ...)",
      "8. stop(\"unable to install packages\")"
     ]
    }
   ],
   "source": [
    "# prepare the R environment\n",
    "if (!require(\"pacman\")) install.packages(\"pacman\")\n",
    "pacman::p_load(\n",
    "  dplyr,         # Data munging functions\n",
    "  zoo,              # Feature engineering rolling aggregates\n",
    "  data.table,       # Feature engineering\n",
    "  ggplot2,          # Graphics\n",
    "  scales,           # Time formatted axis\n",
    "  readr,            # Reading input files\n",
    "  stringr,          # String functions\n",
    "  reshape2,         # restructure and aggregate data \n",
    "  randomForest,     # Random forests\n",
    "  corrplot,         # correlation plots\n",
    "  Metrics,          # Eval metrics for ML\n",
    "  vcd               # Visualizing discrete distributions\n",
    ")\n",
    "\n",
    "# set options for plots\n",
    "options(repr.plot.width=6, repr.plot.height=6)"
   ]
  },
  {
   "cell_type": "code",
   "execution_count": 3,
   "metadata": {},
   "outputs": [
    {
     "data": {
      "text/html": [
       "<table>\n",
       "<thead><tr><th scope=col>Date</th><th scope=col>Open</th><th scope=col>High</th><th scope=col>Low</th><th scope=col>Close</th><th scope=col>Volume</th><th scope=col>Adj.Close</th></tr></thead>\n",
       "<tbody>\n",
       "\t<tr><td>2016-02-01</td><td>750.46    </td><td>757.860   </td><td>743.27    </td><td>752.00    </td><td>10278400  </td><td>752.00    </td></tr>\n",
       "\t<tr><td>2016-01-04</td><td>743.00    </td><td>752.000   </td><td>673.26    </td><td>742.95    </td><td> 2632600  </td><td>742.95    </td></tr>\n",
       "\t<tr><td>2015-12-01</td><td>747.11    </td><td>779.980   </td><td>724.17    </td><td>758.88    </td><td> 2026100  </td><td>758.88    </td></tr>\n",
       "\t<tr><td>2015-11-02</td><td>711.06    </td><td>762.708   </td><td>705.85    </td><td>742.60    </td><td> 1801600  </td><td>742.60    </td></tr>\n",
       "\t<tr><td>2015-10-01</td><td>608.37    </td><td>730.000   </td><td>599.85    </td><td>710.81    </td><td> 2333600  </td><td>710.81    </td></tr>\n",
       "\t<tr><td>2015-09-01</td><td>602.36    </td><td>650.900   </td><td>589.38    </td><td>608.42    </td><td> 2398400  </td><td>608.42    </td></tr>\n",
       "</tbody>\n",
       "</table>\n"
      ],
      "text/latex": [
       "\\begin{tabular}{r|lllllll}\n",
       " Date & Open & High & Low & Close & Volume & Adj.Close\\\\\n",
       "\\hline\n",
       "\t 2016-02-01 & 750.46     & 757.860    & 743.27     & 752.00     & 10278400   & 752.00    \\\\\n",
       "\t 2016-01-04 & 743.00     & 752.000    & 673.26     & 742.95     &  2632600   & 742.95    \\\\\n",
       "\t 2015-12-01 & 747.11     & 779.980    & 724.17     & 758.88     &  2026100   & 758.88    \\\\\n",
       "\t 2015-11-02 & 711.06     & 762.708    & 705.85     & 742.60     &  1801600   & 742.60    \\\\\n",
       "\t 2015-10-01 & 608.37     & 730.000    & 599.85     & 710.81     &  2333600   & 710.81    \\\\\n",
       "\t 2015-09-01 & 602.36     & 650.900    & 589.38     & 608.42     &  2398400   & 608.42    \\\\\n",
       "\\end{tabular}\n"
      ],
      "text/markdown": [
       "\n",
       "Date | Open | High | Low | Close | Volume | Adj.Close | \n",
       "|---|---|---|---|---|---|\n",
       "| 2016-02-01 | 750.46     | 757.860    | 743.27     | 752.00     | 10278400   | 752.00     | \n",
       "| 2016-01-04 | 743.00     | 752.000    | 673.26     | 742.95     |  2632600   | 742.95     | \n",
       "| 2015-12-01 | 747.11     | 779.980    | 724.17     | 758.88     |  2026100   | 758.88     | \n",
       "| 2015-11-02 | 711.06     | 762.708    | 705.85     | 742.60     |  1801600   | 742.60     | \n",
       "| 2015-10-01 | 608.37     | 730.000    | 599.85     | 710.81     |  2333600   | 710.81     | \n",
       "| 2015-09-01 | 602.36     | 650.900    | 589.38     | 608.42     |  2398400   | 608.42     | \n",
       "\n",
       "\n"
      ],
      "text/plain": [
       "  Date       Open   High    Low    Close  Volume   Adj.Close\n",
       "1 2016-02-01 750.46 757.860 743.27 752.00 10278400 752.00   \n",
       "2 2016-01-04 743.00 752.000 673.26 742.95  2632600 742.95   \n",
       "3 2015-12-01 747.11 779.980 724.17 758.88  2026100 758.88   \n",
       "4 2015-11-02 711.06 762.708 705.85 742.60  1801600 742.60   \n",
       "5 2015-10-01 608.37 730.000 599.85 710.81  2333600 710.81   \n",
       "6 2015-09-01 602.36 650.900 589.38 608.42  2398400 608.42   "
      ]
     },
     "metadata": {},
     "output_type": "display_data"
    },
    {
     "data": {
      "text/html": [
       "<table>\n",
       "<thead><tr><th scope=col>Date</th><th scope=col>Open</th><th scope=col>High</th><th scope=col>Low</th><th scope=col>Close</th><th scope=col>Volume</th><th scope=col>Adj.Close</th></tr></thead>\n",
       "<tbody>\n",
       "\t<tr><td>2016-02-01</td><td>4587.59   </td><td>4636.93   </td><td>4565.37   </td><td>4620.37   </td><td>3966680000</td><td>4620.37   </td></tr>\n",
       "\t<tr><td>2016-01-04</td><td>4897.65   </td><td>4926.73   </td><td>4313.39   </td><td>4613.95   </td><td>2499720000</td><td>4613.95   </td></tr>\n",
       "\t<tr><td>2015-12-01</td><td>5129.64   </td><td>5176.77   </td><td>4871.59   </td><td>5007.41   </td><td>1911610000</td><td>5007.41   </td></tr>\n",
       "\t<tr><td>2015-11-02</td><td>5065.64   </td><td>5163.47   </td><td>4908.66   </td><td>5108.67   </td><td>1951903500</td><td>5108.67   </td></tr>\n",
       "\t<tr><td>2015-10-01</td><td>4624.46   </td><td>5095.69   </td><td>4552.34   </td><td>5053.75   </td><td>2016574000</td><td>5053.75   </td></tr>\n",
       "\t<tr><td>2015-09-01</td><td>4673.61   </td><td>4960.87   </td><td>4487.06   </td><td>4620.16   </td><td>2090584200</td><td>4620.16   </td></tr>\n",
       "</tbody>\n",
       "</table>\n"
      ],
      "text/latex": [
       "\\begin{tabular}{r|lllllll}\n",
       " Date & Open & High & Low & Close & Volume & Adj.Close\\\\\n",
       "\\hline\n",
       "\t 2016-02-01 & 4587.59    & 4636.93    & 4565.37    & 4620.37    & 3966680000 & 4620.37   \\\\\n",
       "\t 2016-01-04 & 4897.65    & 4926.73    & 4313.39    & 4613.95    & 2499720000 & 4613.95   \\\\\n",
       "\t 2015-12-01 & 5129.64    & 5176.77    & 4871.59    & 5007.41    & 1911610000 & 5007.41   \\\\\n",
       "\t 2015-11-02 & 5065.64    & 5163.47    & 4908.66    & 5108.67    & 1951903500 & 5108.67   \\\\\n",
       "\t 2015-10-01 & 4624.46    & 5095.69    & 4552.34    & 5053.75    & 2016574000 & 5053.75   \\\\\n",
       "\t 2015-09-01 & 4673.61    & 4960.87    & 4487.06    & 4620.16    & 2090584200 & 4620.16   \\\\\n",
       "\\end{tabular}\n"
      ],
      "text/markdown": [
       "\n",
       "Date | Open | High | Low | Close | Volume | Adj.Close | \n",
       "|---|---|---|---|---|---|\n",
       "| 2016-02-01 | 4587.59    | 4636.93    | 4565.37    | 4620.37    | 3966680000 | 4620.37    | \n",
       "| 2016-01-04 | 4897.65    | 4926.73    | 4313.39    | 4613.95    | 2499720000 | 4613.95    | \n",
       "| 2015-12-01 | 5129.64    | 5176.77    | 4871.59    | 5007.41    | 1911610000 | 5007.41    | \n",
       "| 2015-11-02 | 5065.64    | 5163.47    | 4908.66    | 5108.67    | 1951903500 | 5108.67    | \n",
       "| 2015-10-01 | 4624.46    | 5095.69    | 4552.34    | 5053.75    | 2016574000 | 5053.75    | \n",
       "| 2015-09-01 | 4673.61    | 4960.87    | 4487.06    | 4620.16    | 2090584200 | 4620.16    | \n",
       "\n",
       "\n"
      ],
      "text/plain": [
       "  Date       Open    High    Low     Close   Volume     Adj.Close\n",
       "1 2016-02-01 4587.59 4636.93 4565.37 4620.37 3966680000 4620.37  \n",
       "2 2016-01-04 4897.65 4926.73 4313.39 4613.95 2499720000 4613.95  \n",
       "3 2015-12-01 5129.64 5176.77 4871.59 5007.41 1911610000 5007.41  \n",
       "4 2015-11-02 5065.64 5163.47 4908.66 5108.67 1951903500 5108.67  \n",
       "5 2015-10-01 4624.46 5095.69 4552.34 5053.75 2016574000 5053.75  \n",
       "6 2015-09-01 4673.61 4960.87 4487.06 4620.16 2090584200 4620.16  "
      ]
     },
     "metadata": {},
     "output_type": "display_data"
    }
   ],
   "source": [
    "# Load the googs data\n",
    "googFile <-\"C:\\\\Users\\\\Mirela\\\\RStudioProjects\\\\Regression_file\\\\Regression_Data\\\\goog.csv\"\n",
    "nasdaqFile<-\"C:\\\\Users\\\\Mirela\\\\RStudioProjects\\\\Regression_file\\\\Regression_Data\\\\Nasdaq.csv\"\n",
    "tbondsFile <-\"C:\\\\Users\\\\Mirela\\\\RStudioProjects\\\\Regression_file\\\\Regression_Data\\\\tbond5yr.csv\"\n",
    "if(!file.exists(googFile)){tryCatch(googFile)}\n",
    "if(file.exists(googFile)) goog_original <- read.csv(googFile)\n",
    "if(!file.exists(nasdaqFile)){tryCatch(nasdaqFile)}\n",
    "if(file.exists(nasdaqFile)) nasdaqFile_original <- read.csv(nasdaqFile)\n",
    "if(!file.exists(tbondsFile)){tryCatch(tbondsFile)}\n",
    "if(file.exists(tbondsFile)) tbondsFile_original <- read.csv(tbondsFile)\n",
    "head(goog_original)\n",
    "head(nasdaqFile_original)\n"
   ]
  },
  {
   "cell_type": "code",
   "execution_count": 4,
   "metadata": {},
   "outputs": [
    {
     "data": {
      "text/html": [
       "<table>\n",
       "<thead><tr><th scope=col>Date</th><th scope=col>Open</th><th scope=col>High</th><th scope=col>Low</th><th scope=col>Close</th><th scope=col>Volume</th><th scope=col>Adj.Close</th><th scope=col>goog_id</th></tr></thead>\n",
       "<tbody>\n",
       "\t<tr><td>2016-02-01</td><td>750.46    </td><td>757.860   </td><td>743.27    </td><td>752.00    </td><td>10278400  </td><td>752.00    </td><td>1         </td></tr>\n",
       "\t<tr><td>2016-01-04</td><td>743.00    </td><td>752.000   </td><td>673.26    </td><td>742.95    </td><td> 2632600  </td><td>742.95    </td><td>2         </td></tr>\n",
       "\t<tr><td>2015-12-01</td><td>747.11    </td><td>779.980   </td><td>724.17    </td><td>758.88    </td><td> 2026100  </td><td>758.88    </td><td>3         </td></tr>\n",
       "\t<tr><td>2015-11-02</td><td>711.06    </td><td>762.708   </td><td>705.85    </td><td>742.60    </td><td> 1801600  </td><td>742.60    </td><td>4         </td></tr>\n",
       "\t<tr><td>2015-10-01</td><td>608.37    </td><td>730.000   </td><td>599.85    </td><td>710.81    </td><td> 2333600  </td><td>710.81    </td><td>5         </td></tr>\n",
       "\t<tr><td>2015-09-01</td><td>602.36    </td><td>650.900   </td><td>589.38    </td><td>608.42    </td><td> 2398400  </td><td>608.42    </td><td>6         </td></tr>\n",
       "</tbody>\n",
       "</table>\n"
      ],
      "text/latex": [
       "\\begin{tabular}{r|llllllll}\n",
       " Date & Open & High & Low & Close & Volume & Adj.Close & goog\\_id\\\\\n",
       "\\hline\n",
       "\t 2016-02-01 & 750.46     & 757.860    & 743.27     & 752.00     & 10278400   & 752.00     & 1         \\\\\n",
       "\t 2016-01-04 & 743.00     & 752.000    & 673.26     & 742.95     &  2632600   & 742.95     & 2         \\\\\n",
       "\t 2015-12-01 & 747.11     & 779.980    & 724.17     & 758.88     &  2026100   & 758.88     & 3         \\\\\n",
       "\t 2015-11-02 & 711.06     & 762.708    & 705.85     & 742.60     &  1801600   & 742.60     & 4         \\\\\n",
       "\t 2015-10-01 & 608.37     & 730.000    & 599.85     & 710.81     &  2333600   & 710.81     & 5         \\\\\n",
       "\t 2015-09-01 & 602.36     & 650.900    & 589.38     & 608.42     &  2398400   & 608.42     & 6         \\\\\n",
       "\\end{tabular}\n"
      ],
      "text/markdown": [
       "\n",
       "Date | Open | High | Low | Close | Volume | Adj.Close | goog_id | \n",
       "|---|---|---|---|---|---|\n",
       "| 2016-02-01 | 750.46     | 757.860    | 743.27     | 752.00     | 10278400   | 752.00     | 1          | \n",
       "| 2016-01-04 | 743.00     | 752.000    | 673.26     | 742.95     |  2632600   | 742.95     | 2          | \n",
       "| 2015-12-01 | 747.11     | 779.980    | 724.17     | 758.88     |  2026100   | 758.88     | 3          | \n",
       "| 2015-11-02 | 711.06     | 762.708    | 705.85     | 742.60     |  1801600   | 742.60     | 4          | \n",
       "| 2015-10-01 | 608.37     | 730.000    | 599.85     | 710.81     |  2333600   | 710.81     | 5          | \n",
       "| 2015-09-01 | 602.36     | 650.900    | 589.38     | 608.42     |  2398400   | 608.42     | 6          | \n",
       "\n",
       "\n"
      ],
      "text/plain": [
       "  Date       Open   High    Low    Close  Volume   Adj.Close goog_id\n",
       "1 2016-02-01 750.46 757.860 743.27 752.00 10278400 752.00    1      \n",
       "2 2016-01-04 743.00 752.000 673.26 742.95  2632600 742.95    2      \n",
       "3 2015-12-01 747.11 779.980 724.17 758.88  2026100 758.88    3      \n",
       "4 2015-11-02 711.06 762.708 705.85 742.60  1801600 742.60    4      \n",
       "5 2015-10-01 608.37 730.000 599.85 710.81  2333600 710.81    5      \n",
       "6 2015-09-01 602.36 650.900 589.38 608.42  2398400 608.42    6      "
      ]
     },
     "metadata": {},
     "output_type": "display_data"
    },
    {
     "data": {
      "text/plain": [
       "         Date         Open             High             Low        \n",
       " 2010-01-04: 1   Min.   : 445.3   Min.   : 497.5   Min.   : 433.6  \n",
       " 2010-02-01: 1   1st Qu.: 542.0   1st Qu.: 581.4   1st Qu.: 518.9  \n",
       " 2010-03-01: 1   Median : 598.2   Median : 630.2   Median : 562.2  \n",
       " 2010-04-01: 1   Mean   : 654.0   Mean   : 692.2   Mean   : 616.0  \n",
       " 2010-05-03: 1   3rd Qu.: 717.3   3rd Qu.: 760.2   3rd Qu.: 673.4  \n",
       " 2010-06-01: 1   Max.   :1206.8   Max.   :1228.9   Max.   :1128.0  \n",
       " (Other)   :68                                                     \n",
       "     Close            Volume           Adj.Close        goog_id     \n",
       " Min.   : 445.0   Min.   : 1368600   Min.   :222.3   Min.   : 1.00  \n",
       " 1st Qu.: 542.4   1st Qu.: 2684900   1st Qu.:293.8   1st Qu.:19.25  \n",
       " Median : 596.7   Median : 4726750   Median :387.1   Median :37.50  \n",
       " Mean   : 654.7   Mean   : 4681997   Mean   :424.1   Mean   :37.50  \n",
       " 3rd Qu.: 734.7   3rd Qu.: 5979050   3rd Qu.:554.7   3rd Qu.:55.75  \n",
       " Max.   :1215.7   Max.   :10278400   Max.   :758.9   Max.   :74.00  \n",
       "                                                                    "
      ]
     },
     "metadata": {},
     "output_type": "display_data"
    },
    {
     "data": {
      "text/html": [
       "<table>\n",
       "<thead><tr><th scope=col>Date</th><th scope=col>Open</th><th scope=col>High</th><th scope=col>Low</th><th scope=col>Close</th><th scope=col>Volume</th><th scope=col>Adj.Close</th><th scope=col>nasdaq_id</th></tr></thead>\n",
       "<tbody>\n",
       "\t<tr><td>2016-02-01</td><td>4587.59   </td><td>4636.93   </td><td>4565.37   </td><td>4620.37   </td><td>3966680000</td><td>4620.37   </td><td>1         </td></tr>\n",
       "\t<tr><td>2016-01-04</td><td>4897.65   </td><td>4926.73   </td><td>4313.39   </td><td>4613.95   </td><td>2499720000</td><td>4613.95   </td><td>2         </td></tr>\n",
       "\t<tr><td>2015-12-01</td><td>5129.64   </td><td>5176.77   </td><td>4871.59   </td><td>5007.41   </td><td>1911610000</td><td>5007.41   </td><td>3         </td></tr>\n",
       "\t<tr><td>2015-11-02</td><td>5065.64   </td><td>5163.47   </td><td>4908.66   </td><td>5108.67   </td><td>1951903500</td><td>5108.67   </td><td>4         </td></tr>\n",
       "\t<tr><td>2015-10-01</td><td>4624.46   </td><td>5095.69   </td><td>4552.34   </td><td>5053.75   </td><td>2016574000</td><td>5053.75   </td><td>5         </td></tr>\n",
       "\t<tr><td>2015-09-01</td><td>4673.61   </td><td>4960.87   </td><td>4487.06   </td><td>4620.16   </td><td>2090584200</td><td>4620.16   </td><td>6         </td></tr>\n",
       "</tbody>\n",
       "</table>\n"
      ],
      "text/latex": [
       "\\begin{tabular}{r|llllllll}\n",
       " Date & Open & High & Low & Close & Volume & Adj.Close & nasdaq\\_id\\\\\n",
       "\\hline\n",
       "\t 2016-02-01 & 4587.59    & 4636.93    & 4565.37    & 4620.37    & 3966680000 & 4620.37    & 1         \\\\\n",
       "\t 2016-01-04 & 4897.65    & 4926.73    & 4313.39    & 4613.95    & 2499720000 & 4613.95    & 2         \\\\\n",
       "\t 2015-12-01 & 5129.64    & 5176.77    & 4871.59    & 5007.41    & 1911610000 & 5007.41    & 3         \\\\\n",
       "\t 2015-11-02 & 5065.64    & 5163.47    & 4908.66    & 5108.67    & 1951903500 & 5108.67    & 4         \\\\\n",
       "\t 2015-10-01 & 4624.46    & 5095.69    & 4552.34    & 5053.75    & 2016574000 & 5053.75    & 5         \\\\\n",
       "\t 2015-09-01 & 4673.61    & 4960.87    & 4487.06    & 4620.16    & 2090584200 & 4620.16    & 6         \\\\\n",
       "\\end{tabular}\n"
      ],
      "text/markdown": [
       "\n",
       "Date | Open | High | Low | Close | Volume | Adj.Close | nasdaq_id | \n",
       "|---|---|---|---|---|---|\n",
       "| 2016-02-01 | 4587.59    | 4636.93    | 4565.37    | 4620.37    | 3966680000 | 4620.37    | 1          | \n",
       "| 2016-01-04 | 4897.65    | 4926.73    | 4313.39    | 4613.95    | 2499720000 | 4613.95    | 2          | \n",
       "| 2015-12-01 | 5129.64    | 5176.77    | 4871.59    | 5007.41    | 1911610000 | 5007.41    | 3          | \n",
       "| 2015-11-02 | 5065.64    | 5163.47    | 4908.66    | 5108.67    | 1951903500 | 5108.67    | 4          | \n",
       "| 2015-10-01 | 4624.46    | 5095.69    | 4552.34    | 5053.75    | 2016574000 | 5053.75    | 5          | \n",
       "| 2015-09-01 | 4673.61    | 4960.87    | 4487.06    | 4620.16    | 2090584200 | 4620.16    | 6          | \n",
       "\n",
       "\n"
      ],
      "text/plain": [
       "  Date       Open    High    Low     Close   Volume     Adj.Close nasdaq_id\n",
       "1 2016-02-01 4587.59 4636.93 4565.37 4620.37 3966680000 4620.37   1        \n",
       "2 2016-01-04 4897.65 4926.73 4313.39 4613.95 2499720000 4613.95   2        \n",
       "3 2015-12-01 5129.64 5176.77 4871.59 5007.41 1911610000 5007.41   3        \n",
       "4 2015-11-02 5065.64 5163.47 4908.66 5108.67 1951903500 5108.67   4        \n",
       "5 2015-10-01 4624.46 5095.69 4552.34 5053.75 2016574000 5053.75   5        \n",
       "6 2015-09-01 4673.61 4960.87 4487.06 4620.16 2090584200 4620.16   6        "
      ]
     },
     "metadata": {},
     "output_type": "display_data"
    },
    {
     "data": {
      "text/plain": [
       "         Date         Open           High           Low           Close     \n",
       " 2010-01-04: 1   Min.   :2111   Min.   :2252   Min.   :2061   Min.   :2109  \n",
       " 2010-02-01: 1   1st Qu.:2732   1st Qu.:2810   1st Qu.:2609   1st Qu.:2761  \n",
       " 2010-03-01: 1   Median :3137   Median :3205   Median :3091   Median :3151  \n",
       " 2010-04-01: 1   Mean   :3495   Mean   :3610   Mean   :3367   Mean   :3521  \n",
       " 2010-05-03: 1   3rd Qu.:4409   3rd Qu.:4557   3rd Qu.:4271   3rd Qu.:4472  \n",
       " 2010-06-01: 1   Max.   :5134   Max.   :5232   Max.   :4956   Max.   :5128  \n",
       " (Other)   :68                                                              \n",
       "     Volume            Adj.Close      nasdaq_id    \n",
       " Min.   :1.557e+09   Min.   :2109   Min.   : 1.00  \n",
       " 1st Qu.:1.863e+09   1st Qu.:2761   1st Qu.:19.25  \n",
       " Median :1.982e+09   Median :3151   Median :37.50  \n",
       " Mean   :2.043e+09   Mean   :3521   Mean   :37.50  \n",
       " 3rd Qu.:2.121e+09   3rd Qu.:4472   3rd Qu.:55.75  \n",
       " Max.   :3.967e+09   Max.   :5128   Max.   :74.00  \n",
       "                                                   "
      ]
     },
     "metadata": {},
     "output_type": "display_data"
    }
   ],
   "source": [
    "# generate an id column for future use (joins etc)\n",
    "goog_original$goog_id = seq.int(nrow(goog_original))\n",
    "nasdaqFile_original$nasdaq_id = seq.int(nrow(nasdaqFile_original))\n",
    "head(goog_original)\n",
    "summary(goog_original)\n",
    "head(nasdaqFile_original)\n",
    "summary(nasdaqFile_original)"
   ]
  },
  {
   "cell_type": "code",
   "execution_count": 5,
   "metadata": {},
   "outputs": [
    {
     "data": {},
     "metadata": {},
     "output_type": "display_data"
    },
    {
     "data": {},
     "metadata": {},
     "output_type": "display_data"
    },
    {
     "data": {
      "image/png": "[encoded data removed]",
      "text/plain": [
       "plot without title"
      ]
     },
     "metadata": {},
     "output_type": "display_data"
    },
    {
     "data": {
      "image/png": "[encoded data removed]",
      "text/plain": [
       "plot without title"
      ]
     },
     "metadata": {},
     "output_type": "display_data"
    }
   ],
   "source": [
    "# how many volumes have been realized over the years?\n",
    "goog_original %>% \n",
    "  ggplot(mapping = aes(year(Date))) +\n",
    "  geom_bar(aes(fill= Volume), width=1, color=\"black\") +\n",
    "  theme(legend.position = \"bottom\", legend.direction = \"vertical\") + ggtitle(\"Volumes by Year\")\n",
    "nasdaqFile_original %>% \n",
    "  ggplot(mapping = aes(year(Date))) +\n",
    "  geom_bar(aes(fill= Volume), width=1, color=\"black\") +\n",
    "  theme(legend.position = \"bottom\", legend.direction = \"vertical\") + ggtitle(\"Volumes by Year\")"
   ]
  },
  {
   "cell_type": "code",
   "execution_count": 7,
   "metadata": {},
   "outputs": [
    {
     "data": {
      "text/html": [
       "<table>\n",
       "<thead><tr><th scope=col>Date</th><th scope=col>Open</th><th scope=col>High</th><th scope=col>Low</th><th scope=col>Close</th><th scope=col>Volume</th><th scope=col>Adj.Close</th><th scope=col>goog_id</th></tr></thead>\n",
       "<tbody>\n",
       "\t<tr><td>2016-02-01</td><td>750.46    </td><td>757.860   </td><td>743.27    </td><td>752.00    </td><td>10278400  </td><td>752.00    </td><td>1         </td></tr>\n",
       "\t<tr><td>2016-01-04</td><td>743.00    </td><td>752.000   </td><td>673.26    </td><td>742.95    </td><td> 2632600  </td><td>742.95    </td><td>2         </td></tr>\n",
       "\t<tr><td>2015-12-01</td><td>747.11    </td><td>779.980   </td><td>724.17    </td><td>758.88    </td><td> 2026100  </td><td>758.88    </td><td>3         </td></tr>\n",
       "\t<tr><td>2015-11-02</td><td>711.06    </td><td>762.708   </td><td>705.85    </td><td>742.60    </td><td> 1801600  </td><td>742.60    </td><td>4         </td></tr>\n",
       "\t<tr><td>2015-10-01</td><td>608.37    </td><td>730.000   </td><td>599.85    </td><td>710.81    </td><td> 2333600  </td><td>710.81    </td><td>5         </td></tr>\n",
       "\t<tr><td>2015-09-01</td><td>602.36    </td><td>650.900   </td><td>589.38    </td><td>608.42    </td><td> 2398400  </td><td>608.42    </td><td>6         </td></tr>\n",
       "</tbody>\n",
       "</table>\n"
      ],
      "text/latex": [
       "\\begin{tabular}{r|llllllll}\n",
       " Date & Open & High & Low & Close & Volume & Adj.Close & goog\\_id\\\\\n",
       "\\hline\n",
       "\t 2016-02-01 & 750.46     & 757.860    & 743.27     & 752.00     & 10278400   & 752.00     & 1         \\\\\n",
       "\t 2016-01-04 & 743.00     & 752.000    & 673.26     & 742.95     &  2632600   & 742.95     & 2         \\\\\n",
       "\t 2015-12-01 & 747.11     & 779.980    & 724.17     & 758.88     &  2026100   & 758.88     & 3         \\\\\n",
       "\t 2015-11-02 & 711.06     & 762.708    & 705.85     & 742.60     &  1801600   & 742.60     & 4         \\\\\n",
       "\t 2015-10-01 & 608.37     & 730.000    & 599.85     & 710.81     &  2333600   & 710.81     & 5         \\\\\n",
       "\t 2015-09-01 & 602.36     & 650.900    & 589.38     & 608.42     &  2398400   & 608.42     & 6         \\\\\n",
       "\\end{tabular}\n"
      ],
      "text/markdown": [
       "\n",
       "Date | Open | High | Low | Close | Volume | Adj.Close | goog_id | \n",
       "|---|---|---|---|---|---|\n",
       "| 2016-02-01 | 750.46     | 757.860    | 743.27     | 752.00     | 10278400   | 752.00     | 1          | \n",
       "| 2016-01-04 | 743.00     | 752.000    | 673.26     | 742.95     |  2632600   | 742.95     | 2          | \n",
       "| 2015-12-01 | 747.11     | 779.980    | 724.17     | 758.88     |  2026100   | 758.88     | 3          | \n",
       "| 2015-11-02 | 711.06     | 762.708    | 705.85     | 742.60     |  1801600   | 742.60     | 4          | \n",
       "| 2015-10-01 | 608.37     | 730.000    | 599.85     | 710.81     |  2333600   | 710.81     | 5          | \n",
       "| 2015-09-01 | 602.36     | 650.900    | 589.38     | 608.42     |  2398400   | 608.42     | 6          | \n",
       "\n",
       "\n"
      ],
      "text/plain": [
       "  Date       Open   High    Low    Close  Volume   Adj.Close goog_id\n",
       "1 2016-02-01 750.46 757.860 743.27 752.00 10278400 752.00    1      \n",
       "2 2016-01-04 743.00 752.000 673.26 742.95  2632600 742.95    2      \n",
       "3 2015-12-01 747.11 779.980 724.17 758.88  2026100 758.88    3      \n",
       "4 2015-11-02 711.06 762.708 705.85 742.60  1801600 742.60    4      \n",
       "5 2015-10-01 608.37 730.000 599.85 710.81  2333600 710.81    5      \n",
       "6 2015-09-01 602.36 650.900 589.38 608.42  2398400 608.42    6      "
      ]
     },
     "metadata": {},
     "output_type": "display_data"
    },
    {
     "data": {
      "text/plain": [
       "         Date         Open             High             Low        \n",
       " 2010-01-04: 1   Min.   : 445.3   Min.   : 497.5   Min.   : 433.6  \n",
       " 2010-02-01: 1   1st Qu.: 542.0   1st Qu.: 581.4   1st Qu.: 518.9  \n",
       " 2010-03-01: 1   Median : 598.2   Median : 630.2   Median : 562.2  \n",
       " 2010-04-01: 1   Mean   : 654.0   Mean   : 692.2   Mean   : 616.0  \n",
       " 2010-05-03: 1   3rd Qu.: 717.3   3rd Qu.: 760.2   3rd Qu.: 673.4  \n",
       " 2010-06-01: 1   Max.   :1206.8   Max.   :1228.9   Max.   :1128.0  \n",
       " (Other)   :68                                                     \n",
       "     Close            Volume           Adj.Close        goog_id     \n",
       " Min.   : 445.0   Min.   : 1368600   Min.   :222.3   Min.   : 1.00  \n",
       " 1st Qu.: 542.4   1st Qu.: 2684900   1st Qu.:293.8   1st Qu.:19.25  \n",
       " Median : 596.7   Median : 4726750   Median :387.1   Median :37.50  \n",
       " Mean   : 654.7   Mean   : 4681997   Mean   :424.1   Mean   :37.50  \n",
       " 3rd Qu.: 734.7   3rd Qu.: 5979050   3rd Qu.:554.7   3rd Qu.:55.75  \n",
       " Max.   :1215.7   Max.   :10278400   Max.   :758.9   Max.   :74.00  \n",
       "                                                                    "
      ]
     },
     "metadata": {},
     "output_type": "display_data"
    },
    {
     "data": {
      "text/html": [
       "<table>\n",
       "<thead><tr><th scope=col>Date</th><th scope=col>Open</th><th scope=col>High</th><th scope=col>Low</th><th scope=col>Close</th><th scope=col>Volume</th><th scope=col>Adj.Close</th><th scope=col>nasdaq_id</th></tr></thead>\n",
       "<tbody>\n",
       "\t<tr><td>2016-02-01</td><td>4587.59   </td><td>4636.93   </td><td>4565.37   </td><td>4620.37   </td><td>3966680000</td><td>4620.37   </td><td>1         </td></tr>\n",
       "\t<tr><td>2016-01-04</td><td>4897.65   </td><td>4926.73   </td><td>4313.39   </td><td>4613.95   </td><td>2499720000</td><td>4613.95   </td><td>2         </td></tr>\n",
       "\t<tr><td>2015-12-01</td><td>5129.64   </td><td>5176.77   </td><td>4871.59   </td><td>5007.41   </td><td>1911610000</td><td>5007.41   </td><td>3         </td></tr>\n",
       "\t<tr><td>2015-11-02</td><td>5065.64   </td><td>5163.47   </td><td>4908.66   </td><td>5108.67   </td><td>1951903500</td><td>5108.67   </td><td>4         </td></tr>\n",
       "\t<tr><td>2015-10-01</td><td>4624.46   </td><td>5095.69   </td><td>4552.34   </td><td>5053.75   </td><td>2016574000</td><td>5053.75   </td><td>5         </td></tr>\n",
       "\t<tr><td>2015-09-01</td><td>4673.61   </td><td>4960.87   </td><td>4487.06   </td><td>4620.16   </td><td>2090584200</td><td>4620.16   </td><td>6         </td></tr>\n",
       "</tbody>\n",
       "</table>\n"
      ],
      "text/latex": [
       "\\begin{tabular}{r|llllllll}\n",
       " Date & Open & High & Low & Close & Volume & Adj.Close & nasdaq\\_id\\\\\n",
       "\\hline\n",
       "\t 2016-02-01 & 4587.59    & 4636.93    & 4565.37    & 4620.37    & 3966680000 & 4620.37    & 1         \\\\\n",
       "\t 2016-01-04 & 4897.65    & 4926.73    & 4313.39    & 4613.95    & 2499720000 & 4613.95    & 2         \\\\\n",
       "\t 2015-12-01 & 5129.64    & 5176.77    & 4871.59    & 5007.41    & 1911610000 & 5007.41    & 3         \\\\\n",
       "\t 2015-11-02 & 5065.64    & 5163.47    & 4908.66    & 5108.67    & 1951903500 & 5108.67    & 4         \\\\\n",
       "\t 2015-10-01 & 4624.46    & 5095.69    & 4552.34    & 5053.75    & 2016574000 & 5053.75    & 5         \\\\\n",
       "\t 2015-09-01 & 4673.61    & 4960.87    & 4487.06    & 4620.16    & 2090584200 & 4620.16    & 6         \\\\\n",
       "\\end{tabular}\n"
      ],
      "text/markdown": [
       "\n",
       "Date | Open | High | Low | Close | Volume | Adj.Close | nasdaq_id | \n",
       "|---|---|---|---|---|---|\n",
       "| 2016-02-01 | 4587.59    | 4636.93    | 4565.37    | 4620.37    | 3966680000 | 4620.37    | 1          | \n",
       "| 2016-01-04 | 4897.65    | 4926.73    | 4313.39    | 4613.95    | 2499720000 | 4613.95    | 2          | \n",
       "| 2015-12-01 | 5129.64    | 5176.77    | 4871.59    | 5007.41    | 1911610000 | 5007.41    | 3          | \n",
       "| 2015-11-02 | 5065.64    | 5163.47    | 4908.66    | 5108.67    | 1951903500 | 5108.67    | 4          | \n",
       "| 2015-10-01 | 4624.46    | 5095.69    | 4552.34    | 5053.75    | 2016574000 | 5053.75    | 5          | \n",
       "| 2015-09-01 | 4673.61    | 4960.87    | 4487.06    | 4620.16    | 2090584200 | 4620.16    | 6          | \n",
       "\n",
       "\n"
      ],
      "text/plain": [
       "  Date       Open    High    Low     Close   Volume     Adj.Close nasdaq_id\n",
       "1 2016-02-01 4587.59 4636.93 4565.37 4620.37 3966680000 4620.37   1        \n",
       "2 2016-01-04 4897.65 4926.73 4313.39 4613.95 2499720000 4613.95   2        \n",
       "3 2015-12-01 5129.64 5176.77 4871.59 5007.41 1911610000 5007.41   3        \n",
       "4 2015-11-02 5065.64 5163.47 4908.66 5108.67 1951903500 5108.67   4        \n",
       "5 2015-10-01 4624.46 5095.69 4552.34 5053.75 2016574000 5053.75   5        \n",
       "6 2015-09-01 4673.61 4960.87 4487.06 4620.16 2090584200 4620.16   6        "
      ]
     },
     "metadata": {},
     "output_type": "display_data"
    },
    {
     "data": {
      "text/plain": [
       "         Date         Open           High           Low           Close     \n",
       " 2010-01-04: 1   Min.   :2111   Min.   :2252   Min.   :2061   Min.   :2109  \n",
       " 2010-02-01: 1   1st Qu.:2732   1st Qu.:2810   1st Qu.:2609   1st Qu.:2761  \n",
       " 2010-03-01: 1   Median :3137   Median :3205   Median :3091   Median :3151  \n",
       " 2010-04-01: 1   Mean   :3495   Mean   :3610   Mean   :3367   Mean   :3521  \n",
       " 2010-05-03: 1   3rd Qu.:4409   3rd Qu.:4557   3rd Qu.:4271   3rd Qu.:4472  \n",
       " 2010-06-01: 1   Max.   :5134   Max.   :5232   Max.   :4956   Max.   :5128  \n",
       " (Other)   :68                                                              \n",
       "     Volume            Adj.Close      nasdaq_id    \n",
       " Min.   :1.557e+09   Min.   :2109   Min.   : 1.00  \n",
       " 1st Qu.:1.863e+09   1st Qu.:2761   1st Qu.:19.25  \n",
       " Median :1.982e+09   Median :3151   Median :37.50  \n",
       " Mean   :2.043e+09   Mean   :3521   Mean   :37.50  \n",
       " 3rd Qu.:2.121e+09   3rd Qu.:4472   3rd Qu.:55.75  \n",
       " Max.   :3.967e+09   Max.   :5128   Max.   :74.00  \n",
       "                                                   "
      ]
     },
     "metadata": {},
     "output_type": "display_data"
    }
   ],
   "source": [
    "# eliminate any duplicates that may exist in the dataset\n",
    "googs <- goog_original%>%\n",
    "  distinct(.keep_all = TRUE,Date,Volume,Adj.Close)\n",
    "nasdaqs <- nasdaqFile_original%>%\n",
    "  distinct(.keep_all = TRUE,Date,Volume,Adj.Close)\n",
    "head(googs)\n",
    "summary(googs)\n",
    "head(nasdaqs)\n",
    "summary(nasdaqs)"
   ]
  },
  {
   "cell_type": "code",
   "execution_count": 8,
   "metadata": {},
   "outputs": [],
   "source": [
    "googTable <-read.table(googFile,header = TRUE, sep =\",\" )[,c(\"Date\",\"Adj.Close\")]\n",
    "nasdaqTable <- read.table(nasdaqFile,header = TRUE, sep = \",\")[,c(\"Date\",\"Adj.Close\")]\n",
    "tbondsTable <- read.table(tbondsFile, header = TRUE, sep = \",\")[,c(\"Date\",\"Adj.Close\")]\n",
    "names(tbondsTable)[2] <- \"tbonds.outcomes\"\n",
    "tbondsTable[,c(\"Date\")]<- as.character.Date(tbondsTable[,c(\"Date\")])\n",
    "googTable <- merge(googTable,nasdaqTable, by=\"Date\")\n",
    "googTable[,c(\"Date\")]<- as.character.Date(googTable[,c(\"Date\")])\n",
    "googTable <- googTable[order(googTable$Date,decreasing = TRUE),]\n",
    "names(googTable)[2:3] <- c(\"goog.prices\",\"nasdaq.prices\")\n",
    "googTable[-nrow(googTable),-1] <- googTable[-nrow(googTable),-1]/googTable[-1,-1]-1\n",
    "googTable<-googTable[-nrow(googTable),]\n",
    "names(googTable)[2:3] <- c(\"goog.outcomes\",\"nasdaq.outcomes\")\n",
    "googTable<-merge(googTable,tbondsTable,by=\"Date\")\n",
    "googTable$tbonds.outcomes<-googTable$tbonds.outcomes/100\n",
    "googTable[,c(\"goog.outcomes\",\"nasdaq.outcomes\")] <- googTable[,c(\"goog.outcomes\",\"nasdaq.outcomes\")]-googTable[,\"tbonds.outcomes\"]"
   ]
  },
  {
   "cell_type": "code",
   "execution_count": 9,
   "metadata": {},
   "outputs": [
    {
     "data": {
      "image/png": "[encoded data removed]",
      "text/plain": [
       "plot without title"
      ]
     },
     "metadata": {},
     "output_type": "display_data"
    }
   ],
   "source": [
    "#Robust linear regression \n",
    "plot(googTable$goog.outcomes,googTable$nasdaq.outcomes)"
   ]
  },
  {
   "cell_type": "code",
   "execution_count": 10,
   "metadata": {},
   "outputs": [
    {
     "data": {
      "text/plain": [
       "\n",
       "Call:\n",
       "lm(formula = googTable$goog.outcomes ~ googTable$nasdaq.outcomes)\n",
       "\n",
       "Residuals:\n",
       "      Min        1Q    Median        3Q       Max \n",
       "-0.184265 -0.040596 -0.002853  0.028320  0.192225 \n",
       "\n",
       "Coefficients:\n",
       "                          Estimate Std. Error t value Pr(>|t|)    \n",
       "(Intercept)               0.005303   0.007086   0.748    0.457    \n",
       "googTable$nasdaq.outcomes 0.958860   0.160220   5.985 8.02e-08 ***\n",
       "---\n",
       "Signif. codes:  0 '***' 0.001 '**' 0.01 '*' 0.05 '.' 0.1 ' ' 1\n",
       "\n",
       "Residual standard error: 0.06046 on 71 degrees of freedom\n",
       "Multiple R-squared:  0.3353,\tAdjusted R-squared:  0.3259 \n",
       "F-statistic: 35.82 on 1 and 71 DF,  p-value: 8.018e-08\n"
      ]
     },
     "metadata": {},
     "output_type": "display_data"
    },
    {
     "data": {
      "image/png": "[encoded data removed]",
      "text/plain": [
       "Plot with title \"\""
      ]
     },
     "metadata": {},
     "output_type": "display_data"
    },
    {
     "data": {
      "image/png": "[encoded data removed]",
      "text/plain": [
       "Plot with title \"\""
      ]
     },
     "metadata": {},
     "output_type": "display_data"
    },
    {
     "data": {
      "image/png": "[encoded data removed]",
      "text/plain": [
       "Plot with title \"\""
      ]
     },
     "metadata": {},
     "output_type": "display_data"
    },
    {
     "data": {
      "image/png": "[encoded data removed]",
      "text/plain": [
       "Plot with title \"\""
      ]
     },
     "metadata": {},
     "output_type": "display_data"
    }
   ],
   "source": [
    "# Building a linear model\n",
    "googTableM<-lm(googTable$goog.outcomes~googTable$nasdaq.outcomes)\n",
    "summary(googTableM)\n",
    "plot(googTableM)"
   ]
  },
  {
   "cell_type": "code",
   "execution_count": null,
   "metadata": {},
   "outputs": [],
   "source": []
  }
 ],
 "metadata": {
  "kernelspec": {
   "display_name": "R",
   "language": "R",
   "name": "ir"
  },
  "language_info": {
   "codemirror_mode": "r",
   "file_extension": ".r",
   "mimetype": "text/x-r-source",
   "name": "R",
   "pygments_lexer": "r",
   "version": "3.4.3"
  }
 },
 "nbformat": 4,
 "nbformat_minor": 2
}
